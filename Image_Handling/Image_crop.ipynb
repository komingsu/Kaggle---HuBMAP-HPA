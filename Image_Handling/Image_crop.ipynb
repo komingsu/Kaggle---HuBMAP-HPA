{
 "cells": [
  {
   "cell_type": "markdown",
   "id": "3a12000f",
   "metadata": {},
   "source": [
    "# IMAGE CROP 1\n",
    "**대회 개요**\n",
    "\n",
    "    - 5개의 인간 장기에 걸쳐 기능 조직 단위(FTU)를 식별,분할.\n",
    "    - FTU를 가능한 한 정확하게 분할하여 제출\n",
    "    - 조직 섹션 이미지의 데이터 세트를 사용하여 모델을 구축\n",
    "    \n",
    "**IMAGE CROP 1**\n",
    "\n",
    "    - 이미지를 10등분하여 저장하기"
   ]
  },
  {
   "cell_type": "markdown",
   "id": "036bf2ef",
   "metadata": {},
   "source": [
    "## 라이브러리"
   ]
  },
  {
   "cell_type": "code",
   "execution_count": 82,
   "id": "2eb25cde",
   "metadata": {
    "ExecuteTime": {
     "end_time": "2022-08-09T03:36:08.932806Z",
     "start_time": "2022-08-09T03:36:08.923031Z"
    }
   },
   "outputs": [
    {
     "name": "stdout",
     "output_type": "stream",
     "text": [
      "\tVERSION INFORMATION\n",
      "\t\t– CV2 VERSION: 4.5.5\n",
      "\t\t– NUMPY VERSION: 1.19.5\n",
      "\t\t– PANDAS VERSION: 1.4.3\n",
      "\t\t– TENSORFLOW VERSION: 2.4.1\n",
      "\t\t– TENSORFLOW I/O VERSION: 0.17.0\n"
     ]
    }
   ],
   "source": [
    "print(\"\\tVERSION INFORMATION\")\n",
    "import gc\n",
    "import os\n",
    "import cv2; print(f\"\\t\\t– CV2 VERSION: {cv2.__version__}\");\n",
    "import zipfile\n",
    "from glob import glob\n",
    "import plotly.express as px\n",
    "import numpy as np; print(f\"\\t\\t– NUMPY VERSION: {np.__version__}\");\n",
    "import pandas as pd; pd.options.mode.chained_assignment = None; print(f\"\\t\\t– PANDAS VERSION: {pd.__version__}\");\n",
    "from PIL import Image\n",
    "import tifffile as tiff\n",
    "from tqdm.notebook import tqdm; tqdm.pandas();\n",
    "import matplotlib.pyplot as plt\n",
    "from torch.utils.data import Dataset\n",
    "import tensorflow as tf; print(f\"\\t\\t– TENSORFLOW VERSION: {tf.__version__}\");\n",
    "import tensorflow_io as tfio; print(f\"\\t\\t– TENSORFLOW I/O VERSION: {tfio.__version__}\");\n",
    "gc.enable()"
   ]
  },
  {
   "cell_type": "markdown",
   "id": "85c3df4b",
   "metadata": {
    "ExecuteTime": {
     "end_time": "2022-08-08T05:57:07.962716Z",
     "start_time": "2022-08-08T05:57:07.945722Z"
    }
   },
   "source": [
    "## 데이터 셋\n",
    "\n",
    "대회의 목적은 다양한 기관을 촬영한 사진에서 각각 FTU(functional tissue unit)의 위치를 알아내는 것.\n",
    "\n",
    "훈련 어노테이션은 RLE-인코딩 마스크로 제공된다., 이미지는 16-bit, 회색 스케일, PNG 포맷으로 구성.\n",
    "\n",
    "다양한 데이터 (2가지 소스)로 구성이 되어있는 것은 다양한 소스에서 나오는 다양한 프로콜과 해상도의 이미지에 대처할 수 있는지를 확인하기 위한 것\n",
    "- 훈련데이터는 개방된 HPA 데이터\n",
    "- 공개된 테스트셋은 비공개된 HPA data + HuBMAP data\n",
    "- 비공개 테스트셋은 HuBMAP data만으로 구성."
   ]
  },
  {
   "cell_type": "markdown",
   "id": "8852d508",
   "metadata": {},
   "source": [
    "# 데이터"
   ]
  },
  {
   "cell_type": "markdown",
   "id": "940fc33a",
   "metadata": {},
   "source": [
    "## 데이터 세팅"
   ]
  },
  {
   "cell_type": "code",
   "execution_count": 2,
   "id": "a0fb7c64",
   "metadata": {
    "ExecuteTime": {
     "end_time": "2022-08-09T01:24:58.008272Z",
     "start_time": "2022-08-09T01:24:57.991269Z"
    }
   },
   "outputs": [
    {
     "name": "stdout",
     "output_type": "stream",
     "text": [
      "\n",
      "... DATA DIRECTORY PATH IS:\n",
      "\t--> D:Dataset/dataset/hubmap-organ-segmentation/\n",
      "\n",
      "... IMMEDIATE CONTENTS OF DATA DIRECTORY IS:\n",
      "\t--> D:Dataset\\dataset\\hubmap-organ-segmentation\\masked_images\n",
      "\t--> D:Dataset\\dataset\\hubmap-organ-segmentation\\sample_submission.csv\n",
      "\t--> D:Dataset\\dataset\\hubmap-organ-segmentation\\test.csv\n",
      "\t--> D:Dataset\\dataset\\hubmap-organ-segmentation\\test_images\n",
      "\t--> D:Dataset\\dataset\\hubmap-organ-segmentation\\train.csv\n",
      "\t--> D:Dataset\\dataset\\hubmap-organ-segmentation\\train_annotations\n",
      "\t--> D:Dataset\\dataset\\hubmap-organ-segmentation\\train_images\n"
     ]
    }
   ],
   "source": [
    "DATA_DIR = \"D:Dataset/dataset/hubmap-organ-segmentation/\"\n",
    "print(f\"\\n... DATA DIRECTORY PATH IS:\\n\\t--> {DATA_DIR}\")\n",
    "print(f\"\\n... IMMEDIATE CONTENTS OF DATA DIRECTORY IS:\")\n",
    "for file in tf.io.gfile.glob(os.path.join(DATA_DIR, \"*\")): print(f\"\\t--> {file}\")"
   ]
  },
  {
   "cell_type": "code",
   "execution_count": 3,
   "id": "1fcbe124",
   "metadata": {
    "ExecuteTime": {
     "end_time": "2022-08-09T01:25:00.466641Z",
     "start_time": "2022-08-09T01:25:00.264353Z"
    }
   },
   "outputs": [
    {
     "name": "stdout",
     "output_type": "stream",
     "text": [
      "\n",
      "... ORIGINAL TRAINING DATAFRAME... \n",
      "\n"
     ]
    },
    {
     "data": {
      "text/html": [
       "<div>\n",
       "<style scoped>\n",
       "    .dataframe tbody tr th:only-of-type {\n",
       "        vertical-align: middle;\n",
       "    }\n",
       "\n",
       "    .dataframe tbody tr th {\n",
       "        vertical-align: top;\n",
       "    }\n",
       "\n",
       "    .dataframe thead th {\n",
       "        text-align: right;\n",
       "    }\n",
       "</style>\n",
       "<table border=\"1\" class=\"dataframe\">\n",
       "  <thead>\n",
       "    <tr style=\"text-align: right;\">\n",
       "      <th></th>\n",
       "      <th>id</th>\n",
       "      <th>organ</th>\n",
       "      <th>data_source</th>\n",
       "      <th>img_height</th>\n",
       "      <th>img_width</th>\n",
       "      <th>pixel_size</th>\n",
       "      <th>tissue_thickness</th>\n",
       "      <th>rle</th>\n",
       "      <th>age</th>\n",
       "      <th>sex</th>\n",
       "    </tr>\n",
       "  </thead>\n",
       "  <tbody>\n",
       "    <tr>\n",
       "      <th>0</th>\n",
       "      <td>10044</td>\n",
       "      <td>prostate</td>\n",
       "      <td>HPA</td>\n",
       "      <td>3000</td>\n",
       "      <td>3000</td>\n",
       "      <td>0.4</td>\n",
       "      <td>4</td>\n",
       "      <td>1459676 77 1462675 82 1465674 87 1468673 92 14...</td>\n",
       "      <td>37.0</td>\n",
       "      <td>Male</td>\n",
       "    </tr>\n",
       "    <tr>\n",
       "      <th>1</th>\n",
       "      <td>10274</td>\n",
       "      <td>prostate</td>\n",
       "      <td>HPA</td>\n",
       "      <td>3000</td>\n",
       "      <td>3000</td>\n",
       "      <td>0.4</td>\n",
       "      <td>4</td>\n",
       "      <td>715707 2 718705 8 721703 11 724701 18 727692 3...</td>\n",
       "      <td>76.0</td>\n",
       "      <td>Male</td>\n",
       "    </tr>\n",
       "    <tr>\n",
       "      <th>2</th>\n",
       "      <td>10392</td>\n",
       "      <td>spleen</td>\n",
       "      <td>HPA</td>\n",
       "      <td>3000</td>\n",
       "      <td>3000</td>\n",
       "      <td>0.4</td>\n",
       "      <td>4</td>\n",
       "      <td>1228631 20 1231629 24 1234624 40 1237623 47 12...</td>\n",
       "      <td>82.0</td>\n",
       "      <td>Male</td>\n",
       "    </tr>\n",
       "    <tr>\n",
       "      <th>3</th>\n",
       "      <td>10488</td>\n",
       "      <td>lung</td>\n",
       "      <td>HPA</td>\n",
       "      <td>3000</td>\n",
       "      <td>3000</td>\n",
       "      <td>0.4</td>\n",
       "      <td>4</td>\n",
       "      <td>3446519 15 3449517 17 3452514 20 3455510 24 34...</td>\n",
       "      <td>78.0</td>\n",
       "      <td>Male</td>\n",
       "    </tr>\n",
       "    <tr>\n",
       "      <th>4</th>\n",
       "      <td>10610</td>\n",
       "      <td>spleen</td>\n",
       "      <td>HPA</td>\n",
       "      <td>3000</td>\n",
       "      <td>3000</td>\n",
       "      <td>0.4</td>\n",
       "      <td>4</td>\n",
       "      <td>478925 68 481909 87 484893 105 487863 154 4908...</td>\n",
       "      <td>21.0</td>\n",
       "      <td>Female</td>\n",
       "    </tr>\n",
       "    <tr>\n",
       "      <th>...</th>\n",
       "      <td>...</td>\n",
       "      <td>...</td>\n",
       "      <td>...</td>\n",
       "      <td>...</td>\n",
       "      <td>...</td>\n",
       "      <td>...</td>\n",
       "      <td>...</td>\n",
       "      <td>...</td>\n",
       "      <td>...</td>\n",
       "      <td>...</td>\n",
       "    </tr>\n",
       "    <tr>\n",
       "      <th>346</th>\n",
       "      <td>9517</td>\n",
       "      <td>kidney</td>\n",
       "      <td>HPA</td>\n",
       "      <td>3000</td>\n",
       "      <td>3000</td>\n",
       "      <td>0.4</td>\n",
       "      <td>4</td>\n",
       "      <td>1611763 11 1614753 29 1617750 35 1620746 43 16...</td>\n",
       "      <td>61.0</td>\n",
       "      <td>Male</td>\n",
       "    </tr>\n",
       "    <tr>\n",
       "      <th>347</th>\n",
       "      <td>9769</td>\n",
       "      <td>kidney</td>\n",
       "      <td>HPA</td>\n",
       "      <td>3070</td>\n",
       "      <td>3070</td>\n",
       "      <td>0.4</td>\n",
       "      <td>4</td>\n",
       "      <td>4030400 28 4033466 34 4036526 48 4039594 54 40...</td>\n",
       "      <td>28.0</td>\n",
       "      <td>Male</td>\n",
       "    </tr>\n",
       "    <tr>\n",
       "      <th>348</th>\n",
       "      <td>9777</td>\n",
       "      <td>largeintestine</td>\n",
       "      <td>HPA</td>\n",
       "      <td>3000</td>\n",
       "      <td>3000</td>\n",
       "      <td>0.4</td>\n",
       "      <td>4</td>\n",
       "      <td>538473 13 541468 22 544463 30 547461 35 550459...</td>\n",
       "      <td>84.0</td>\n",
       "      <td>Male</td>\n",
       "    </tr>\n",
       "    <tr>\n",
       "      <th>349</th>\n",
       "      <td>9791</td>\n",
       "      <td>kidney</td>\n",
       "      <td>HPA</td>\n",
       "      <td>3000</td>\n",
       "      <td>3000</td>\n",
       "      <td>0.4</td>\n",
       "      <td>4</td>\n",
       "      <td>334733 33 337729 43 340729 43 343725 51 346723...</td>\n",
       "      <td>28.0</td>\n",
       "      <td>Male</td>\n",
       "    </tr>\n",
       "    <tr>\n",
       "      <th>350</th>\n",
       "      <td>9904</td>\n",
       "      <td>largeintestine</td>\n",
       "      <td>HPA</td>\n",
       "      <td>3000</td>\n",
       "      <td>3000</td>\n",
       "      <td>0.4</td>\n",
       "      <td>4</td>\n",
       "      <td>1009165 7 1012149 28 1015140 38 1018127 51 102...</td>\n",
       "      <td>84.0</td>\n",
       "      <td>Male</td>\n",
       "    </tr>\n",
       "  </tbody>\n",
       "</table>\n",
       "<p>351 rows × 10 columns</p>\n",
       "</div>"
      ],
      "text/plain": [
       "        id           organ data_source  img_height  img_width  pixel_size  \\\n",
       "0    10044        prostate         HPA        3000       3000         0.4   \n",
       "1    10274        prostate         HPA        3000       3000         0.4   \n",
       "2    10392          spleen         HPA        3000       3000         0.4   \n",
       "3    10488            lung         HPA        3000       3000         0.4   \n",
       "4    10610          spleen         HPA        3000       3000         0.4   \n",
       "..     ...             ...         ...         ...        ...         ...   \n",
       "346   9517          kidney         HPA        3000       3000         0.4   \n",
       "347   9769          kidney         HPA        3070       3070         0.4   \n",
       "348   9777  largeintestine         HPA        3000       3000         0.4   \n",
       "349   9791          kidney         HPA        3000       3000         0.4   \n",
       "350   9904  largeintestine         HPA        3000       3000         0.4   \n",
       "\n",
       "     tissue_thickness                                                rle  \\\n",
       "0                   4  1459676 77 1462675 82 1465674 87 1468673 92 14...   \n",
       "1                   4  715707 2 718705 8 721703 11 724701 18 727692 3...   \n",
       "2                   4  1228631 20 1231629 24 1234624 40 1237623 47 12...   \n",
       "3                   4  3446519 15 3449517 17 3452514 20 3455510 24 34...   \n",
       "4                   4  478925 68 481909 87 484893 105 487863 154 4908...   \n",
       "..                ...                                                ...   \n",
       "346                 4  1611763 11 1614753 29 1617750 35 1620746 43 16...   \n",
       "347                 4  4030400 28 4033466 34 4036526 48 4039594 54 40...   \n",
       "348                 4  538473 13 541468 22 544463 30 547461 35 550459...   \n",
       "349                 4  334733 33 337729 43 340729 43 343725 51 346723...   \n",
       "350                 4  1009165 7 1012149 28 1015140 38 1018127 51 102...   \n",
       "\n",
       "      age     sex  \n",
       "0    37.0    Male  \n",
       "1    76.0    Male  \n",
       "2    82.0    Male  \n",
       "3    78.0    Male  \n",
       "4    21.0  Female  \n",
       "..    ...     ...  \n",
       "346  61.0    Male  \n",
       "347  28.0    Male  \n",
       "348  84.0    Male  \n",
       "349  28.0    Male  \n",
       "350  84.0    Male  \n",
       "\n",
       "[351 rows x 10 columns]"
      ]
     },
     "metadata": {},
     "output_type": "display_data"
    },
    {
     "name": "stdout",
     "output_type": "stream",
     "text": [
      "\n",
      "... ORIGINAL SUBMISSION DATAFRAME... \n",
      "\n"
     ]
    },
    {
     "data": {
      "text/html": [
       "<div>\n",
       "<style scoped>\n",
       "    .dataframe tbody tr th:only-of-type {\n",
       "        vertical-align: middle;\n",
       "    }\n",
       "\n",
       "    .dataframe tbody tr th {\n",
       "        vertical-align: top;\n",
       "    }\n",
       "\n",
       "    .dataframe thead th {\n",
       "        text-align: right;\n",
       "    }\n",
       "</style>\n",
       "<table border=\"1\" class=\"dataframe\">\n",
       "  <thead>\n",
       "    <tr style=\"text-align: right;\">\n",
       "      <th></th>\n",
       "      <th>id</th>\n",
       "      <th>rle</th>\n",
       "    </tr>\n",
       "  </thead>\n",
       "  <tbody>\n",
       "    <tr>\n",
       "      <th>0</th>\n",
       "      <td>10078</td>\n",
       "      <td>12 34</td>\n",
       "    </tr>\n",
       "  </tbody>\n",
       "</table>\n",
       "</div>"
      ],
      "text/plain": [
       "      id    rle\n",
       "0  10078  12 34"
      ]
     },
     "metadata": {},
     "output_type": "display_data"
    }
   ],
   "source": [
    "TRAIN_IMAGES_DIR = os.path.join(DATA_DIR, \"train_images\")                                       # train_image 폴더 path\n",
    "TRAIN_LABELS_DIR = os.path.join(DATA_DIR, \"train_annotations\")                               # train_label(json파일) 폴더 path\n",
    "TRAIN_CSV = os.path.join(DATA_DIR, \"train.csv\")                                                            # train_image(key=id) 정보 csv\n",
    "train_df = pd.read_csv(TRAIN_CSV)                                                                                  # train_dataframe\n",
    "all_train_images = glob(os.path.join(TRAIN_IMAGES_DIR, \"*.tiff\"), recursive=True)   # 모든 train_image\n",
    "all_train_labels = glob(os.path.join(TRAIN_LABELS_DIR, \"*.json\"), recursive=True)    # 모든 train_label\n",
    "\n",
    "TEST_IMAGES_DIR = os.path.join(DATA_DIR, \"test_images\")                                         # train_image 폴더 path\n",
    "TEST_CSV = os.path.join(DATA_DIR, \"test.csv\")                                                              # test_image(key=id) 정보 csv\n",
    "test_df = pd.read_csv(TEST_CSV)                                                                                    # test_dataframe\n",
    "all_test_images = glob(os.path.join(TEST_IMAGES_DIR, \"*.tiff\"), recursive=True)     # 모든 test_image\n",
    "\n",
    "SS_CSV   = os.path.join(DATA_DIR, \"sample_submission.csv\")                                     # submission csv\n",
    "ss_df = pd.read_csv(SS_CSV)                                                                                           # submission dataframe\n",
    "\n",
    "\n",
    "def rgb2hex(rgb_tuple):\n",
    "    r,g,b = rgb_tuple\n",
    "    def clamp(x): \n",
    "        return max(0, min(x, 255))\n",
    "    return \"#{0:02x}{1:02x}{2:02x}\".format(clamp(r), clamp(g), clamp(b))\n",
    "\n",
    "ORGANS = ['kidney', 'largeintestine', 'lung', 'prostate', 'spleen']\n",
    "_COLOURS = [(230, 0, 73), (11, 180, 255), (80, 233, 145), (230, 216, 0), (155, 25, 245)]\n",
    "O2C_MAP = {_o:_c for _o,_c in zip(ORGANS, _COLOURS)}\n",
    "O2C_HEX_MAP = {_o:rgb2hex(_c) for _o,_c in O2C_MAP.items()}\n",
    "\n",
    "print(\"\\n... ORIGINAL TRAINING DATAFRAME... \\n\")\n",
    "display(train_df)\n",
    "\n",
    "print(\"\\n... ORIGINAL SUBMISSION DATAFRAME... \\n\")\n",
    "display(ss_df)"
   ]
  },
  {
   "cell_type": "markdown",
   "id": "2ea7041b",
   "metadata": {},
   "source": [
    "## 기본데이터에 데이터 추가"
   ]
  },
  {
   "cell_type": "code",
   "execution_count": 4,
   "id": "7acf1e7f",
   "metadata": {
    "ExecuteTime": {
     "end_time": "2022-08-09T01:25:01.995121Z",
     "start_time": "2022-08-09T01:25:01.959113Z"
    }
   },
   "outputs": [
    {
     "data": {
      "text/html": [
       "<div>\n",
       "<style scoped>\n",
       "    .dataframe tbody tr th:only-of-type {\n",
       "        vertical-align: middle;\n",
       "    }\n",
       "\n",
       "    .dataframe tbody tr th {\n",
       "        vertical-align: top;\n",
       "    }\n",
       "\n",
       "    .dataframe thead th {\n",
       "        text-align: right;\n",
       "    }\n",
       "</style>\n",
       "<table border=\"1\" class=\"dataframe\">\n",
       "  <thead>\n",
       "    <tr style=\"text-align: right;\">\n",
       "      <th></th>\n",
       "      <th>id</th>\n",
       "      <th>organ</th>\n",
       "      <th>data_source</th>\n",
       "      <th>img_path</th>\n",
       "      <th>lbl_path</th>\n",
       "      <th>img_height</th>\n",
       "      <th>img_width</th>\n",
       "      <th>pixel_size</th>\n",
       "      <th>tissue_thickness</th>\n",
       "      <th>rle</th>\n",
       "      <th>age</th>\n",
       "      <th>sex</th>\n",
       "    </tr>\n",
       "  </thead>\n",
       "  <tbody>\n",
       "    <tr>\n",
       "      <th>0</th>\n",
       "      <td>10044</td>\n",
       "      <td>prostate</td>\n",
       "      <td>HPA</td>\n",
       "      <td>D:Dataset/dataset/hubmap-organ-segmentation/tr...</td>\n",
       "      <td>D:Dataset/dataset/hubmap-organ-segmentation/tr...</td>\n",
       "      <td>3000</td>\n",
       "      <td>3000</td>\n",
       "      <td>0.4</td>\n",
       "      <td>4</td>\n",
       "      <td>1459676 77 1462675 82 1465674 87 1468673 92 14...</td>\n",
       "      <td>0.37</td>\n",
       "      <td>0</td>\n",
       "    </tr>\n",
       "    <tr>\n",
       "      <th>1</th>\n",
       "      <td>10274</td>\n",
       "      <td>prostate</td>\n",
       "      <td>HPA</td>\n",
       "      <td>D:Dataset/dataset/hubmap-organ-segmentation/tr...</td>\n",
       "      <td>D:Dataset/dataset/hubmap-organ-segmentation/tr...</td>\n",
       "      <td>3000</td>\n",
       "      <td>3000</td>\n",
       "      <td>0.4</td>\n",
       "      <td>4</td>\n",
       "      <td>715707 2 718705 8 721703 11 724701 18 727692 3...</td>\n",
       "      <td>0.76</td>\n",
       "      <td>0</td>\n",
       "    </tr>\n",
       "    <tr>\n",
       "      <th>2</th>\n",
       "      <td>10392</td>\n",
       "      <td>spleen</td>\n",
       "      <td>HPA</td>\n",
       "      <td>D:Dataset/dataset/hubmap-organ-segmentation/tr...</td>\n",
       "      <td>D:Dataset/dataset/hubmap-organ-segmentation/tr...</td>\n",
       "      <td>3000</td>\n",
       "      <td>3000</td>\n",
       "      <td>0.4</td>\n",
       "      <td>4</td>\n",
       "      <td>1228631 20 1231629 24 1234624 40 1237623 47 12...</td>\n",
       "      <td>0.82</td>\n",
       "      <td>0</td>\n",
       "    </tr>\n",
       "    <tr>\n",
       "      <th>3</th>\n",
       "      <td>10488</td>\n",
       "      <td>lung</td>\n",
       "      <td>HPA</td>\n",
       "      <td>D:Dataset/dataset/hubmap-organ-segmentation/tr...</td>\n",
       "      <td>D:Dataset/dataset/hubmap-organ-segmentation/tr...</td>\n",
       "      <td>3000</td>\n",
       "      <td>3000</td>\n",
       "      <td>0.4</td>\n",
       "      <td>4</td>\n",
       "      <td>3446519 15 3449517 17 3452514 20 3455510 24 34...</td>\n",
       "      <td>0.78</td>\n",
       "      <td>0</td>\n",
       "    </tr>\n",
       "    <tr>\n",
       "      <th>4</th>\n",
       "      <td>10610</td>\n",
       "      <td>spleen</td>\n",
       "      <td>HPA</td>\n",
       "      <td>D:Dataset/dataset/hubmap-organ-segmentation/tr...</td>\n",
       "      <td>D:Dataset/dataset/hubmap-organ-segmentation/tr...</td>\n",
       "      <td>3000</td>\n",
       "      <td>3000</td>\n",
       "      <td>0.4</td>\n",
       "      <td>4</td>\n",
       "      <td>478925 68 481909 87 484893 105 487863 154 4908...</td>\n",
       "      <td>0.21</td>\n",
       "      <td>1</td>\n",
       "    </tr>\n",
       "  </tbody>\n",
       "</table>\n",
       "</div>"
      ],
      "text/plain": [
       "      id     organ data_source  \\\n",
       "0  10044  prostate         HPA   \n",
       "1  10274  prostate         HPA   \n",
       "2  10392    spleen         HPA   \n",
       "3  10488      lung         HPA   \n",
       "4  10610    spleen         HPA   \n",
       "\n",
       "                                            img_path  \\\n",
       "0  D:Dataset/dataset/hubmap-organ-segmentation/tr...   \n",
       "1  D:Dataset/dataset/hubmap-organ-segmentation/tr...   \n",
       "2  D:Dataset/dataset/hubmap-organ-segmentation/tr...   \n",
       "3  D:Dataset/dataset/hubmap-organ-segmentation/tr...   \n",
       "4  D:Dataset/dataset/hubmap-organ-segmentation/tr...   \n",
       "\n",
       "                                            lbl_path  img_height  img_width  \\\n",
       "0  D:Dataset/dataset/hubmap-organ-segmentation/tr...        3000       3000   \n",
       "1  D:Dataset/dataset/hubmap-organ-segmentation/tr...        3000       3000   \n",
       "2  D:Dataset/dataset/hubmap-organ-segmentation/tr...        3000       3000   \n",
       "3  D:Dataset/dataset/hubmap-organ-segmentation/tr...        3000       3000   \n",
       "4  D:Dataset/dataset/hubmap-organ-segmentation/tr...        3000       3000   \n",
       "\n",
       "   pixel_size  tissue_thickness  \\\n",
       "0         0.4                 4   \n",
       "1         0.4                 4   \n",
       "2         0.4                 4   \n",
       "3         0.4                 4   \n",
       "4         0.4                 4   \n",
       "\n",
       "                                                 rle   age  sex  \n",
       "0  1459676 77 1462675 82 1465674 87 1468673 92 14...  0.37    0  \n",
       "1  715707 2 718705 8 721703 11 724701 18 727692 3...  0.76    0  \n",
       "2  1228631 20 1231629 24 1234624 40 1237623 47 12...  0.82    0  \n",
       "3  3446519 15 3449517 17 3452514 20 3455510 24 34...  0.78    0  \n",
       "4  478925 68 481909 87 484893 105 487863 154 4908...  0.21    1  "
      ]
     },
     "execution_count": 4,
     "metadata": {},
     "output_type": "execute_result"
    }
   ],
   "source": [
    "# 변경 (라벨링, 스케일링)\n",
    "sex2int = {\"Male\":0, \"Female\":1}\n",
    "int2sex = {v:k for k,v in sex2int.items()}\n",
    "age_divisor = 100.0\n",
    "\n",
    "train_df[\"sex\"] = train_df[\"sex\"].map(sex2int)\n",
    "train_df[\"age\"] = train_df[\"age\"]/age_divisor\n",
    "\n",
    "# 추가 (image, label paths 추가)\n",
    "train_img_map = {int(x[:-5].rsplit(\"\\\\\", 1)[-1]):x for x in all_train_images}\n",
    "train_lbl_map = {int(x[:-5].rsplit(\"\\\\\", 1)[-1]):x for x in all_train_labels}\n",
    "test_img_map = {int(x[:-5].rsplit(\"\\\\\", 1)[-1]):x for x in all_test_images}\n",
    "\n",
    "train_df.insert(3, \"img_path\", train_df[\"id\"].map(train_img_map))\n",
    "train_df.insert(4, \"lbl_path\", train_df[\"id\"].map(train_lbl_map))\n",
    "test_df.insert(3, \"img_path\", test_df[\"id\"].map(test_img_map))\n",
    "\n",
    "train_df.head()"
   ]
  },
  {
   "cell_type": "code",
   "execution_count": 5,
   "id": "41e1c655",
   "metadata": {
    "ExecuteTime": {
     "end_time": "2022-08-09T01:25:03.065533Z",
     "start_time": "2022-08-09T01:25:03.055532Z"
    }
   },
   "outputs": [
    {
     "name": "stdout",
     "output_type": "stream",
     "text": [
      "\n",
      "... CONFIGURE JIT (JUST IN TIME) COMPILATION ...\n",
      "\n"
     ]
    }
   ],
   "source": [
    "## XLA\n",
    "print(f\"\\n... CONFIGURE JIT (JUST IN TIME) COMPILATION ...\\n\")\n",
    "# enable XLA optmizations (10% speedup when using @tf.function calls)\n",
    "tf.config.optimizer.set_jit(True) # XLA은 텐서플로우 환경안에서 도메인 별로 특화된 선형대수 계산 컴파일러이며, 연산 속도와 메모리 사용량을 향상시킨다."
   ]
  },
  {
   "cell_type": "markdown",
   "id": "217452bc",
   "metadata": {},
   "source": [
    "## 함수 "
   ]
  },
  {
   "cell_type": "code",
   "execution_count": 21,
   "id": "5c8c9077",
   "metadata": {
    "ExecuteTime": {
     "end_time": "2022-08-09T01:36:44.395592Z",
     "start_time": "2022-08-09T01:36:44.389590Z"
    }
   },
   "outputs": [],
   "source": [
    "im = Image.open(\"D:Dataset/dataset/hubmap-organ-segmentation/train_images/10044.tiff\")"
   ]
  },
  {
   "cell_type": "code",
   "execution_count": 22,
   "id": "c3bd3fee",
   "metadata": {
    "ExecuteTime": {
     "end_time": "2022-08-09T01:37:05.808477Z",
     "start_time": "2022-08-09T01:37:05.765636Z"
    }
   },
   "outputs": [],
   "source": [
    "arr_im = np.array(im)"
   ]
  },
  {
   "cell_type": "code",
   "execution_count": 23,
   "id": "03ed82c6",
   "metadata": {
    "ExecuteTime": {
     "end_time": "2022-08-09T01:37:10.997191Z",
     "start_time": "2022-08-09T01:37:10.989191Z"
    }
   },
   "outputs": [
    {
     "data": {
      "text/plain": [
       "(3000, 3000, 3)"
      ]
     },
     "execution_count": 23,
     "metadata": {},
     "output_type": "execute_result"
    }
   ],
   "source": [
    "arr_im.shape"
   ]
  },
  {
   "cell_type": "code",
   "execution_count": 25,
   "id": "2bb94546",
   "metadata": {
    "ExecuteTime": {
     "end_time": "2022-08-09T01:38:16.510765Z",
     "start_time": "2022-08-09T01:38:16.500783Z"
    }
   },
   "outputs": [],
   "source": [
    "def mask2rle(img, orig_dim=160):\n",
    "    '''\n",
    "    img: numpy array, 1 - mask, 0 - background\n",
    "    Returns run length as string formated\n",
    "    '''\n",
    "    #Rescale image to original size\n",
    "    n = Image.fromarray(img)\n",
    "    n = n.resize((orig_dim, orig_dim))\n",
    "    n = np.array(n).astype(float)\n",
    "    #Get pixels to flatten\n",
    "    pixels = n.T.flatten()\n",
    "    #Round the pixels using the half of the range of pixel value\n",
    "    pixels = (pixels-min(pixels) > ((max(pixels)-min(pixels))/2)).astype(int)\n",
    "    \n",
    "    pixels = np.concatenate([[0], pixels, [0]])\n",
    "    runs = np.where(pixels[1:] != pixels[:-1])[0] + 1\n",
    "    runs[1::2] -= runs[::2]\n",
    "    return ' '.join(str(x) for x in runs)\n",
    "\n",
    "def rle_decode(mask_rle, shape):  # fast rle decode\n",
    "    \"\"\" TBD\n",
    "    \n",
    "    Args:\n",
    "        mask_rle (str): run-length as string formated (start length)\n",
    "        shape (tuple of ints): (height,width) of array to return \n",
    "    \n",
    "    Returns:\n",
    "        Mask (np.array)\n",
    "            - 1 indicating mask\n",
    "            - 0 indicating background\n",
    "\n",
    "    \"\"\"\n",
    "    s = mask_rle.split()\n",
    "    starts, lengths = [np.asarray(x, dtype=int) for x in (s[0:][::2], s[1:][::2])]\n",
    "    starts -= 1\n",
    "    ends = starts + lengths\n",
    "    img = np.zeros(shape[0]*shape[1], dtype=np.uint8)\n",
    "    for lo, hi in zip(starts, ends):\n",
    "        img[lo:hi] = 1\n",
    "    return img.reshape((1,shape[1], shape[0]), order='F').T  # Reshape from top -> bottom first\n",
    "\n",
    "def flatten_l_o_l(nested_list):\n",
    "    \"\"\" Flatten a list of lists \"\"\"\n",
    "    return [item for sublist in nested_list for item in sublist]\n",
    "\n",
    "def load_json_to_dict(json_path): # for label data read\n",
    "    \"\"\" tbd \"\"\"\n",
    "    with open(json_path) as json_file:\n",
    "        data = json.load(json_file)\n",
    "    return data\n",
    "\n",
    "def decode_tiff_tonumpy(img_path): # for tiff image read\n",
    "    im = Image.open(img_path)\n",
    "    im = np.array(im)\n",
    "    return im"
   ]
  },
  {
   "cell_type": "markdown",
   "id": "68b34e97",
   "metadata": {},
   "source": [
    "## 샘플 데이터 확인"
   ]
  },
  {
   "cell_type": "code",
   "execution_count": 28,
   "id": "9f2029d4",
   "metadata": {
    "ExecuteTime": {
     "end_time": "2022-08-09T01:38:30.466807Z",
     "start_time": "2022-08-09T01:38:30.460370Z"
    }
   },
   "outputs": [],
   "source": [
    "mask = train_df[\"rle\"].iloc[0]"
   ]
  },
  {
   "cell_type": "code",
   "execution_count": 29,
   "id": "ed81d53c",
   "metadata": {
    "ExecuteTime": {
     "end_time": "2022-08-09T01:38:30.670713Z",
     "start_time": "2022-08-09T01:38:30.652709Z"
    }
   },
   "outputs": [
    {
     "data": {
      "text/plain": [
       "(3000, 3000, 1)"
      ]
     },
     "execution_count": 29,
     "metadata": {},
     "output_type": "execute_result"
    }
   ],
   "source": [
    "mask = rle_decode(mask, shape=(3000,3000))\n",
    "mask.shape"
   ]
  },
  {
   "cell_type": "code",
   "execution_count": 30,
   "id": "96baa722",
   "metadata": {
    "ExecuteTime": {
     "end_time": "2022-08-09T01:38:31.666321Z",
     "start_time": "2022-08-09T01:38:31.604953Z"
    }
   },
   "outputs": [],
   "source": [
    " img = decode_tiff_tonumpy(train_df[\"img_path\"].iloc[0]).astype(np.float32)"
   ]
  },
  {
   "cell_type": "code",
   "execution_count": 31,
   "id": "63127600",
   "metadata": {
    "ExecuteTime": {
     "end_time": "2022-08-09T01:38:31.886951Z",
     "start_time": "2022-08-09T01:38:31.867947Z"
    }
   },
   "outputs": [
    {
     "data": {
      "text/plain": [
       "(3000, 3000, 3)"
      ]
     },
     "execution_count": 31,
     "metadata": {},
     "output_type": "execute_result"
    }
   ],
   "source": [
    "img.shape"
   ]
  },
  {
   "cell_type": "code",
   "execution_count": 42,
   "id": "6989bba2",
   "metadata": {
    "ExecuteTime": {
     "end_time": "2022-08-09T01:54:32.638100Z",
     "start_time": "2022-08-09T01:54:32.529685Z"
    },
    "scrolled": false
   },
   "outputs": [
    {
     "data": {
      "text/plain": [
       "TensorShape([3000, 3000, 4])"
      ]
     },
     "execution_count": 42,
     "metadata": {},
     "output_type": "execute_result"
    }
   ],
   "source": [
    "concat_img = tf.concat([img,mask],axis=-1)\n",
    "concat_img.shape"
   ]
  },
  {
   "cell_type": "code",
   "execution_count": 58,
   "id": "281d62be",
   "metadata": {
    "ExecuteTime": {
     "end_time": "2022-08-09T02:06:26.596765Z",
     "start_time": "2022-08-09T02:06:26.584481Z"
    }
   },
   "outputs": [],
   "source": [
    "heights = concat_img.shape[0]\n",
    "widths = concat_img.shape[1]"
   ]
  },
  {
   "cell_type": "code",
   "execution_count": 74,
   "id": "2df081dc",
   "metadata": {
    "ExecuteTime": {
     "end_time": "2022-08-09T03:27:30.055026Z",
     "start_time": "2022-08-09T03:27:30.042025Z"
    },
    "scrolled": false
   },
   "outputs": [],
   "source": [
    "div_num = 10\n",
    "height = heights//8\n",
    "width = widths//8\n",
    "idx=0\n",
    "for i in range(8):\n",
    "    for j in range(8):\n",
    "        sh = height*i\n",
    "        sw = width*j\n",
    "        eh = height*(i+1)\n",
    "        ew = width*(j+1)\n",
    "        idx+=1\n",
    "        img = concat_img[sh:eh,sw:ew,:]"
   ]
  },
  {
   "cell_type": "code",
   "execution_count": 80,
   "id": "3004a7d8",
   "metadata": {
    "ExecuteTime": {
     "end_time": "2022-08-09T03:28:56.152821Z",
     "start_time": "2022-08-09T03:28:56.042437Z"
    }
   },
   "outputs": [
    {
     "data": {
      "text/plain": [
       "<matplotlib.image.AxesImage at 0x2b09e9c1dc0>"
      ]
     },
     "execution_count": 80,
     "metadata": {},
     "output_type": "execute_result"
    },
    {
     "data": {
      "image/png": "[encoded data removed]",
      "text/plain": [
       "<Figure size 432x288 with 1 Axes>"
      ]
     },
     "metadata": {
      "needs_background": "light"
     },
     "output_type": "display_data"
    }
   ],
   "source": [
    "import matplotlib.pyplot as plt\n",
    "plt.imshow(img[:,:,:3]/255)"
   ]
  },
  {
   "cell_type": "code",
   "execution_count": null,
   "id": "ae5c6428",
   "metadata": {},
   "outputs": [],
   "source": []
  }
 ],
 "metadata": {
  "kernelspec": {
   "display_name": "Python 3 (ipykernel)",
   "language": "python",
   "name": "python3"
  },
  "language_info": {
   "codemirror_mode": {
    "name": "ipython",
    "version": 3
   },
   "file_extension": ".py",
   "mimetype": "text/x-python",
   "name": "python",
   "nbconvert_exporter": "python",
   "pygments_lexer": "ipython3",
   "version": "3.8.13"
  },
  "toc": {
   "base_numbering": 1,
   "nav_menu": {},
   "number_sections": true,
   "sideBar": true,
   "skip_h1_title": false,
   "title_cell": "Table of Contents",
   "title_sidebar": "Contents",
   "toc_cell": false,
   "toc_position": {},
   "toc_section_display": true,
   "toc_window_display": false
  }
 },
 "nbformat": 4,
 "nbformat_minor": 5
}
