{
 "cells": [
  {
   "cell_type": "code",
   "execution_count": 1,
   "id": "062a364f",
   "metadata": {
    "ExecuteTime": {
     "end_time": "2022-08-18T07:52:41.949235Z",
     "start_time": "2022-08-18T07:52:38.903648Z"
    }
   },
   "outputs": [],
   "source": [
    "import os\n",
    "import pandas as pd\n",
    "from glob import glob\n",
    "import tifffile as tiff\n",
    "import json\n",
    "import matplotlib.pyplot as plt\n",
    "import tensorflow as tf\n",
    "import tensorflow_io as tfio\n",
    "import cv2\n",
    "from PIL import Image, ImageOps\n",
    "from tqdm.auto import tqdm\n",
    "import numpy as np\n",
    "import random"
   ]
  },
  {
   "cell_type": "code",
   "execution_count": 2,
   "id": "91aa1f6e",
   "metadata": {
    "ExecuteTime": {
     "end_time": "2022-08-18T07:53:01.959039Z",
     "start_time": "2022-08-18T07:53:01.792537Z"
    }
   },
   "outputs": [
    {
     "name": "stdout",
     "output_type": "stream",
     "text": [
      "(351, 10)\n"
     ]
    },
    {
     "data": {
      "text/html": [
       "<div>\n",
       "<style scoped>\n",
       "    .dataframe tbody tr th:only-of-type {\n",
       "        vertical-align: middle;\n",
       "    }\n",
       "\n",
       "    .dataframe tbody tr th {\n",
       "        vertical-align: top;\n",
       "    }\n",
       "\n",
       "    .dataframe thead th {\n",
       "        text-align: right;\n",
       "    }\n",
       "</style>\n",
       "<table border=\"1\" class=\"dataframe\">\n",
       "  <thead>\n",
       "    <tr style=\"text-align: right;\">\n",
       "      <th></th>\n",
       "      <th>id</th>\n",
       "      <th>organ</th>\n",
       "      <th>data_source</th>\n",
       "      <th>img_height</th>\n",
       "      <th>img_width</th>\n",
       "      <th>pixel_size</th>\n",
       "      <th>tissue_thickness</th>\n",
       "      <th>rle</th>\n",
       "      <th>age</th>\n",
       "      <th>sex</th>\n",
       "    </tr>\n",
       "  </thead>\n",
       "  <tbody>\n",
       "    <tr>\n",
       "      <th>0</th>\n",
       "      <td>10044</td>\n",
       "      <td>prostate</td>\n",
       "      <td>HPA</td>\n",
       "      <td>3000</td>\n",
       "      <td>3000</td>\n",
       "      <td>0.4</td>\n",
       "      <td>4</td>\n",
       "      <td>1459676 77 1462675 82 1465674 87 1468673 92 14...</td>\n",
       "      <td>37.0</td>\n",
       "      <td>Male</td>\n",
       "    </tr>\n",
       "    <tr>\n",
       "      <th>1</th>\n",
       "      <td>10274</td>\n",
       "      <td>prostate</td>\n",
       "      <td>HPA</td>\n",
       "      <td>3000</td>\n",
       "      <td>3000</td>\n",
       "      <td>0.4</td>\n",
       "      <td>4</td>\n",
       "      <td>715707 2 718705 8 721703 11 724701 18 727692 3...</td>\n",
       "      <td>76.0</td>\n",
       "      <td>Male</td>\n",
       "    </tr>\n",
       "    <tr>\n",
       "      <th>2</th>\n",
       "      <td>10392</td>\n",
       "      <td>spleen</td>\n",
       "      <td>HPA</td>\n",
       "      <td>3000</td>\n",
       "      <td>3000</td>\n",
       "      <td>0.4</td>\n",
       "      <td>4</td>\n",
       "      <td>1228631 20 1231629 24 1234624 40 1237623 47 12...</td>\n",
       "      <td>82.0</td>\n",
       "      <td>Male</td>\n",
       "    </tr>\n",
       "    <tr>\n",
       "      <th>3</th>\n",
       "      <td>10488</td>\n",
       "      <td>lung</td>\n",
       "      <td>HPA</td>\n",
       "      <td>3000</td>\n",
       "      <td>3000</td>\n",
       "      <td>0.4</td>\n",
       "      <td>4</td>\n",
       "      <td>3446519 15 3449517 17 3452514 20 3455510 24 34...</td>\n",
       "      <td>78.0</td>\n",
       "      <td>Male</td>\n",
       "    </tr>\n",
       "    <tr>\n",
       "      <th>4</th>\n",
       "      <td>10610</td>\n",
       "      <td>spleen</td>\n",
       "      <td>HPA</td>\n",
       "      <td>3000</td>\n",
       "      <td>3000</td>\n",
       "      <td>0.4</td>\n",
       "      <td>4</td>\n",
       "      <td>478925 68 481909 87 484893 105 487863 154 4908...</td>\n",
       "      <td>21.0</td>\n",
       "      <td>Female</td>\n",
       "    </tr>\n",
       "  </tbody>\n",
       "</table>\n",
       "</div>"
      ],
      "text/plain": [
       "      id     organ data_source  img_height  img_width  pixel_size  \\\n",
       "0  10044  prostate         HPA        3000       3000         0.4   \n",
       "1  10274  prostate         HPA        3000       3000         0.4   \n",
       "2  10392    spleen         HPA        3000       3000         0.4   \n",
       "3  10488      lung         HPA        3000       3000         0.4   \n",
       "4  10610    spleen         HPA        3000       3000         0.4   \n",
       "\n",
       "   tissue_thickness                                                rle   age  \\\n",
       "0                 4  1459676 77 1462675 82 1465674 87 1468673 92 14...  37.0   \n",
       "1                 4  715707 2 718705 8 721703 11 724701 18 727692 3...  76.0   \n",
       "2                 4  1228631 20 1231629 24 1234624 40 1237623 47 12...  82.0   \n",
       "3                 4  3446519 15 3449517 17 3452514 20 3455510 24 34...  78.0   \n",
       "4                 4  478925 68 481909 87 484893 105 487863 154 4908...  21.0   \n",
       "\n",
       "      sex  \n",
       "0    Male  \n",
       "1    Male  \n",
       "2    Male  \n",
       "3    Male  \n",
       "4  Female  "
      ]
     },
     "metadata": {},
     "output_type": "display_data"
    },
    {
     "name": "stdout",
     "output_type": "stream",
     "text": [
      "(1, 7)\n"
     ]
    },
    {
     "data": {
      "text/html": [
       "<div>\n",
       "<style scoped>\n",
       "    .dataframe tbody tr th:only-of-type {\n",
       "        vertical-align: middle;\n",
       "    }\n",
       "\n",
       "    .dataframe tbody tr th {\n",
       "        vertical-align: top;\n",
       "    }\n",
       "\n",
       "    .dataframe thead th {\n",
       "        text-align: right;\n",
       "    }\n",
       "</style>\n",
       "<table border=\"1\" class=\"dataframe\">\n",
       "  <thead>\n",
       "    <tr style=\"text-align: right;\">\n",
       "      <th></th>\n",
       "      <th>id</th>\n",
       "      <th>organ</th>\n",
       "      <th>data_source</th>\n",
       "      <th>img_height</th>\n",
       "      <th>img_width</th>\n",
       "      <th>pixel_size</th>\n",
       "      <th>tissue_thickness</th>\n",
       "    </tr>\n",
       "  </thead>\n",
       "  <tbody>\n",
       "    <tr>\n",
       "      <th>0</th>\n",
       "      <td>10078</td>\n",
       "      <td>spleen</td>\n",
       "      <td>Hubmap</td>\n",
       "      <td>2023</td>\n",
       "      <td>2023</td>\n",
       "      <td>0.4945</td>\n",
       "      <td>4</td>\n",
       "    </tr>\n",
       "  </tbody>\n",
       "</table>\n",
       "</div>"
      ],
      "text/plain": [
       "      id   organ data_source  img_height  img_width  pixel_size  \\\n",
       "0  10078  spleen      Hubmap        2023       2023      0.4945   \n",
       "\n",
       "   tissue_thickness  \n",
       "0                 4  "
      ]
     },
     "metadata": {},
     "output_type": "display_data"
    }
   ],
   "source": [
    "DATA_DIR = \"D:Dataset/dataset/hubmap-organ-segmentation/\"\n",
    "\n",
    "# Training Datasets\n",
    "TRAIN_CSV = os.path.join(DATA_DIR, 'train.csv')\n",
    "train_df = pd.read_csv(TRAIN_CSV)\n",
    "TRAIN_IMAGES_DIR = os.path.join(DATA_DIR, 'train_images')\n",
    "TRAIN_LABELS_DIR = os.path.join(DATA_DIR, 'train_annotations')\n",
    "\n",
    "all_train_images = glob(os.path.join(TRAIN_IMAGES_DIR, '*.tiff'), recursive = True)\n",
    "all_train_labels = glob(os.path.join(TRAIN_LABELS_DIR, '*.json'), recursive = True)\n",
    "\n",
    "print(train_df.shape)\n",
    "display(train_df.head())\n",
    "\n",
    "# Test Datasets\n",
    "TEST_CSV = os.path.join(DATA_DIR, 'test.csv')\n",
    "test_df = pd.read_csv(TEST_CSV)\n",
    "TEST_IMAGES_DIR = os.path.join(DATA_DIR, 'test_images')\n",
    "\n",
    "all_test_images = glob(os.path.join(TEST_IMAGES_DIR, '*.tiff'), recursive = True)\n",
    "\n",
    "print(test_df.shape)\n",
    "display(test_df)"
   ]
  },
  {
   "cell_type": "code",
   "execution_count": 3,
   "id": "e2746599",
   "metadata": {
    "ExecuteTime": {
     "end_time": "2022-08-18T07:53:57.550696Z",
     "start_time": "2022-08-18T07:53:57.537267Z"
    }
   },
   "outputs": [],
   "source": [
    "def resize_tile_image_500_png(p_img, folder, size: int = 500):\n",
    "    w = h = size\n",
    "    im = Image.open(p_img)\n",
    "    \n",
    "    im_resize = im.resize((3000, 3000))\n",
    "   \n",
    "    im = np.array(im_resize)\n",
    "    # https://stackoverflow.com/a/47581978/4521646\n",
    "    tiles = [im[i:(i + h), j:(j + w), ...] for i in range(0, im.shape[0], h) for j in range(0, im.shape[1], w)]\n",
    "    idxs = [(i, (i + h), j, (j + w)) for i in range(0, im.shape[0], h) for j in range(0, im.shape[1], w)]\n",
    "    name, _ = os.path.splitext(os.path.basename(p_img))\n",
    "    files = []\n",
    "    for k, tile in enumerate(tiles):\n",
    "        if tile.shape[:2] != (h, w):\n",
    "            tile_ = tile\n",
    "            tile = np.zeros_like(tiles[0])\n",
    "            tile[:tile_.shape[0], :tile_.shape[1], ...] = tile_\n",
    "        p_img = os.path.join(folder, f\"{name}_{k:03}.png\")\n",
    "        Image.fromarray(tile).save(p_img)\n",
    "        files.append(p_img)\n",
    "    return files, idxs\n"
   ]
  },
  {
   "cell_type": "code",
   "execution_count": 4,
   "id": "da8dc686",
   "metadata": {
    "ExecuteTime": {
     "end_time": "2022-08-18T07:53:58.684685Z",
     "start_time": "2022-08-18T07:53:58.671692Z"
    }
   },
   "outputs": [],
   "source": [
    "def resize_tile_image_500_jpg(p_img, folder, size: int = 500):\n",
    "    w = h = size\n",
    "    im = Image.open(p_img)\n",
    "    \n",
    "    im_resize = im.resize((3000, 3000))\n",
    "   \n",
    "    im = np.array(im_resize)\n",
    "    # https://stackoverflow.com/a/47581978/4521646\n",
    "    tiles = [im[i:(i + h), j:(j + w), ...] for i in range(0, im.shape[0], h) for j in range(0, im.shape[1], w)]\n",
    "    idxs = [(i, (i + h), j, (j + w)) for i in range(0, im.shape[0], h) for j in range(0, im.shape[1], w)]\n",
    "    name, _ = os.path.splitext(os.path.basename(p_img))\n",
    "    files = []\n",
    "    for k, tile in enumerate(tiles):\n",
    "        if tile.shape[:2] != (h, w):\n",
    "            tile_ = tile\n",
    "            tile = np.zeros_like(tiles[0])\n",
    "            tile[:tile_.shape[0], :tile_.shape[1], ...] = tile_\n",
    "        p_img = os.path.join(folder, f\"{name}_{k:03}.png\")\n",
    "        Image.fromarray(tile).save(p_img)\n",
    "        files.append(p_img)\n",
    "    return files, idxs"
   ]
  },
  {
   "cell_type": "code",
   "execution_count": 7,
   "id": "c59845b8",
   "metadata": {
    "ExecuteTime": {
     "end_time": "2022-08-18T08:06:37.175004Z",
     "start_time": "2022-08-18T08:04:01.454770Z"
    }
   },
   "outputs": [
    {
     "data": {
      "application/vnd.jupyter.widget-view+json": {
       "model_id": "1b29d698cab94e4385c5b16cad4018b7",
       "version_major": 2,
       "version_minor": 0
      },
      "text/plain": [
       "  0%|          | 0/351 [00:00<?, ?it/s]"
      ]
     },
     "metadata": {},
     "output_type": "display_data"
    }
   ],
   "source": [
    "all_train_mclass_masks = glob(os.path.join(\"D:Dataset/dataset/hubmap-organ-segmentation/masked_images\", '*.jpg'))\n",
    "\n",
    "for p_mask in tqdm(sorted(all_train_mclass_masks)):\n",
    "    tiles_seg, idxs = resize_tile_image_500_jpg(p_mask, 'D:Dataset/dataset/hubmap-organ-segmentation/masked_images_tiles')"
   ]
  },
  {
   "cell_type": "code",
   "execution_count": 8,
   "id": "ec613b09",
   "metadata": {
    "ExecuteTime": {
     "end_time": "2022-08-18T08:23:57.130312Z",
     "start_time": "2022-08-18T08:08:09.991434Z"
    }
   },
   "outputs": [
    {
     "data": {
      "application/vnd.jupyter.widget-view+json": {
       "model_id": "2c6d9790805c46488bfaa57e468f2934",
       "version_major": 2,
       "version_minor": 0
      },
      "text/plain": [
       "  0%|          | 0/351 [00:00<?, ?it/s]"
      ]
     },
     "metadata": {},
     "output_type": "display_data"
    }
   ],
   "source": [
    "for p_img in tqdm(sorted(all_train_images)): \n",
    "    tiles_img, _  = resize_tile_image_500_jpg(p_img, \"D:Dataset/dataset/hubmap-organ-segmentation/train_images_tiles/\")"
   ]
  },
  {
   "cell_type": "code",
   "execution_count": null,
   "id": "2e6ebec4",
   "metadata": {},
   "outputs": [],
   "source": []
  }
 ],
 "metadata": {
  "kernelspec": {
   "display_name": "Python 3 (ipykernel)",
   "language": "python",
   "name": "python3"
  },
  "language_info": {
   "codemirror_mode": {
    "name": "ipython",
    "version": 3
   },
   "file_extension": ".py",
   "mimetype": "text/x-python",
   "name": "python",
   "nbconvert_exporter": "python",
   "pygments_lexer": "ipython3",
   "version": "3.9.0"
  },
  "toc": {
   "base_numbering": 1,
   "nav_menu": {},
   "number_sections": true,
   "sideBar": true,
   "skip_h1_title": false,
   "title_cell": "Table of Contents",
   "title_sidebar": "Contents",
   "toc_cell": false,
   "toc_position": {},
   "toc_section_display": true,
   "toc_window_display": false
  }
 },
 "nbformat": 4,
 "nbformat_minor": 5
}
