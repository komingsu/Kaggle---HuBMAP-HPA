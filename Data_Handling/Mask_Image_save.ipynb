{
 "cells": [
  {
   "cell_type": "code",
   "execution_count": 52,
   "id": "cfdcbf4d",
   "metadata": {
    "ExecuteTime": {
     "end_time": "2022-08-17T06:46:16.246821Z",
     "start_time": "2022-08-17T06:46:16.240830Z"
    }
   },
   "outputs": [
    {
     "name": "stdout",
     "output_type": "stream",
     "text": [
      "\t\t– TENSORFLOW VERSION: 2.9.0\n"
     ]
    }
   ],
   "source": [
    "import tensorflow as tf; print(f\"\\t\\t– TENSORFLOW VERSION: {tf.__version__}\");\n",
    "import pandas as pd; pd.options.mode.chained_assignment = None;\n",
    "import os\n",
    "import ast\n",
    "import cv2\n",
    "import numpy as np\n",
    "from glob import glob\n",
    "from PIL import Image\n",
    "import plotly.express as px\n",
    "import matplotlib.pyplot as plt\n",
    "from tqdm.notebook import tqdm; tqdm.pandas();"
   ]
  },
  {
   "cell_type": "code",
   "execution_count": 53,
   "id": "9cb88f9e",
   "metadata": {
    "ExecuteTime": {
     "end_time": "2022-08-17T06:46:16.607411Z",
     "start_time": "2022-08-17T06:46:16.590408Z"
    }
   },
   "outputs": [
    {
     "name": "stdout",
     "output_type": "stream",
     "text": [
      "\t--> D:Dataset\\dataset\\hubmap-organ-segmentation\\masked_images\n",
      "\t--> D:Dataset\\dataset\\hubmap-organ-segmentation\\sample_submission.csv\n",
      "\t--> D:Dataset\\dataset\\hubmap-organ-segmentation\\test.csv\n",
      "\t--> D:Dataset\\dataset\\hubmap-organ-segmentation\\test_images\n",
      "\t--> D:Dataset\\dataset\\hubmap-organ-segmentation\\train.csv\n",
      "\t--> D:Dataset\\dataset\\hubmap-organ-segmentation\\train_annotations\n",
      "\t--> D:Dataset\\dataset\\hubmap-organ-segmentation\\train_images\n"
     ]
    }
   ],
   "source": [
    "DATA_DIR = \"D:Dataset/dataset/hubmap-organ-segmentation/\"\n",
    "for file in tf.io.gfile.glob(os.path.join(DATA_DIR, \"*\")): print(f\"\\t--> {file}\")"
   ]
  },
  {
   "cell_type": "code",
   "execution_count": 77,
   "id": "c08aef60",
   "metadata": {
    "ExecuteTime": {
     "end_time": "2022-08-17T07:01:58.709565Z",
     "start_time": "2022-08-17T07:01:58.567092Z"
    }
   },
   "outputs": [],
   "source": [
    "train_df = pd.read_csv(DATA_DIR+\"train.csv\")\n",
    "test_df = pd.read_csv(DATA_DIR+\"test.csv\")"
   ]
  },
  {
   "cell_type": "code",
   "execution_count": 44,
   "id": "44aecd38",
   "metadata": {
    "ExecuteTime": {
     "end_time": "2022-08-17T06:14:27.591597Z",
     "start_time": "2022-08-17T06:14:27.574390Z"
    }
   },
   "outputs": [],
   "source": [
    "def rle2mask(rle, width, target_size=None):\n",
    "    if target_size == None:\n",
    "        target_size = width\n",
    "\n",
    "    rle = np.array(list(map(int, rle.split())))\n",
    "    label = np.zeros((width*width))\n",
    "    \n",
    "    for start, end in zip(rle[::2], rle[1::2]):\n",
    "        label[start:start+end] = 1\n",
    "        \n",
    "    #Convert label to image\n",
    "    label = Image.fromarray(label.reshape(width, width))\n",
    "    #Resize label\n",
    "    label = label.resize((target_size, target_size))\n",
    "    label = np.array(label).astype(float)\n",
    "    #rescale label\n",
    "    label = np.round((label - label.min())/(label.max() - label.min()))\n",
    "    \n",
    "    return label.T"
   ]
  },
  {
   "cell_type": "code",
   "execution_count": 82,
   "id": "5ad7ead5",
   "metadata": {
    "ExecuteTime": {
     "end_time": "2022-08-17T07:05:21.947699Z",
     "start_time": "2022-08-17T07:05:21.940697Z"
    }
   },
   "outputs": [],
   "source": [
    "tf.config.optimizer.set_jit(True) # XLA은 텐서플로우 환경안에서 도메인 별로 특화된 선형대수 계산 컴파일러이며, 연산 속도와 메모리 사용량을 향상시킨다."
   ]
  },
  {
   "cell_type": "code",
   "execution_count": 85,
   "id": "3221318f",
   "metadata": {
    "ExecuteTime": {
     "end_time": "2022-08-17T07:05:39.674233Z",
     "start_time": "2022-08-17T07:05:39.086851Z"
    }
   },
   "outputs": [],
   "source": [
    "for idx, row in train_df[:1].iterrows():\n",
    "    size = row[\"img_height\"]\n",
    "    y = np.zeros((size, size,3))\n",
    "    temp = row[\"rle\"]\n",
    "    rle = rle2mask(temp, size)\n",
    "    y[:,:,0] = rle\n",
    "    plt.imsave(f\"D:Dataset/dataset/hubmap-organ-segmentation/masked_images/{row['id']}.jpg\", y)"
   ]
  }
 ],
 "metadata": {
  "kernelspec": {
   "display_name": "Python 3 (ipykernel)",
   "language": "python",
   "name": "python3"
  },
  "language_info": {
   "codemirror_mode": {
    "name": "ipython",
    "version": 3
   },
   "file_extension": ".py",
   "mimetype": "text/x-python",
   "name": "python",
   "nbconvert_exporter": "python",
   "pygments_lexer": "ipython3",
   "version": "3.9.0"
  },
  "toc": {
   "base_numbering": 1,
   "nav_menu": {},
   "number_sections": true,
   "sideBar": true,
   "skip_h1_title": false,
   "title_cell": "Table of Contents",
   "title_sidebar": "Contents",
   "toc_cell": false,
   "toc_position": {},
   "toc_section_display": true,
   "toc_window_display": false
  }
 },
 "nbformat": 4,
 "nbformat_minor": 5
}
