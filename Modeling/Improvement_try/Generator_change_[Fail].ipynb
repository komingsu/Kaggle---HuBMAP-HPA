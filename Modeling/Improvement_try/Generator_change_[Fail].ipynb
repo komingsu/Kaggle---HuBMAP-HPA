{
 "cells": [
  {
   "cell_type": "code",
   "execution_count": 1,
   "id": "1da0ce28",
   "metadata": {
    "ExecuteTime": {
     "end_time": "2022-08-18T05:40:00.779967Z",
     "start_time": "2022-08-18T05:39:57.516751Z"
    }
   },
   "outputs": [
    {
     "data": {
      "text/plain": [
       "[PhysicalDevice(name='/physical_device:GPU:0', device_type='GPU')]"
      ]
     },
     "execution_count": 1,
     "metadata": {},
     "output_type": "execute_result"
    }
   ],
   "source": [
    "from tensorflow.keras import backend as K\n",
    "import tensorflow as tf\n",
    "from tensorflow import keras\n",
    "from tensorflow.keras import layers, callbacks\n",
    "import matplotlib.pyplot as plt\n",
    "import numpy as np\n",
    "import pandas as pd\n",
    "import tifffile as tiff \n",
    "import cv2\n",
    "from skimage.transform import resize\n",
    "import seaborn as sns\n",
    "from skimage.color import rgb2gray\n",
    "import tensorflow_io as tfio\n",
    "import pandas as pd; pd.options.mode.chained_assignment = None\n",
    "from tensorflow.keras.applications import EfficientNetB6\n",
    "\n",
    "from PIL import Image, ImageOps\n",
    "from skimage import color\n",
    "\n",
    "sns.set_style('white')\n",
    "tf.config.list_physical_devices(\"GPU\")"
   ]
  },
  {
   "cell_type": "code",
   "execution_count": 2,
   "id": "13f58389",
   "metadata": {
    "ExecuteTime": {
     "end_time": "2022-08-18T05:40:00.795975Z",
     "start_time": "2022-08-18T05:40:00.780967Z"
    }
   },
   "outputs": [],
   "source": [
    "BASE_PATH = \"D:Dataset/dataset/hubmap-organ-segmentation/\"\n",
    "train = pd.read_csv(BASE_PATH+'train_fix.csv')\n",
    "test = pd.read_csv(BASE_PATH+'test.csv')"
   ]
  },
  {
   "cell_type": "code",
   "execution_count": 13,
   "id": "5f579ed9",
   "metadata": {
    "ExecuteTime": {
     "end_time": "2022-08-18T05:43:29.236658Z",
     "start_time": "2022-08-18T05:43:29.217534Z"
    }
   },
   "outputs": [],
   "source": [
    "def get_label(target_path):\n",
    "    target = tf.io.read_file(target_path)\n",
    "    target = tf.io.decode_jpeg(target, channels=3)  # 2진법 8비트로 해독 (0~255)\n",
    "    target = tf.image.resize(target, [size, size])  # 사이즈 조절 (3 채널만 가능하다)\n",
    "    target = target[:, :, 0]\n",
    "    target = tf.expand_dims(target, 2)\n",
    "    target = tf.where(target>0,1,0)\n",
    "    return target\n",
    "\n",
    "def get_image(file_path):\n",
    "    image = tf.io.read_file(file_path)\n",
    "    image = tfio.experimental.image.decode_tiff(image)\n",
    "    image = image[:, :, :3]\n",
    "    image = tf.image.resize(image, [size, size]) \n",
    "    image = image / 255.\n",
    "    return image\n",
    "\n",
    "def process_path(file_path, target_path):  # image, label\n",
    "    label = get_label(target_path)\n",
    "    img = get_image(file_path)\n",
    "    return img, label\n",
    "\n",
    "\n",
    "def configure_for_performance(ds):\n",
    "    ds = ds.cache()\n",
    "    ds = ds.shuffle(buffer_size=10)\n",
    "    ds = ds.batch(batch_size)\n",
    "    ds = ds.prefetch(buffer_size=AUTOTUNE)\n",
    "    return ds\n",
    "\n",
    "simple_aug = tf.keras.Sequential(\n",
    "    [\n",
    "        layers.RandomFlip(\"horizontal_and_vertical\"),\n",
    "        layers.RandomFlip(\"horizontal_and_vertical\"),\n",
    "        layers.RandomFlip(\"horizontal_and_vertical\")\n",
    "    ]\n",
    ")"
   ]
  },
  {
   "cell_type": "code",
   "execution_count": 4,
   "id": "fb65970f",
   "metadata": {
    "ExecuteTime": {
     "end_time": "2022-08-18T05:04:47.978939Z",
     "start_time": "2022-08-18T05:04:47.965526Z"
    }
   },
   "outputs": [],
   "source": [
    "def dice_coef(y_true, y_pred, smooth=1):\n",
    "    y_true_f = K.flatten(y_true)\n",
    "    y_pred_f = K.flatten(y_pred)\n",
    "    intersection = K.sum(y_true_f * y_pred_f)\n",
    "    return (2. * intersection + smooth) / (K.sum(y_true_f) + K.sum(y_pred_f) + smooth)\n",
    "\n",
    "def dice_loss(y_true, y_pred):\n",
    "    smooth = 1.\n",
    "    y_true_f = K.flatten(y_true)\n",
    "    y_pred_f = K.flatten(y_pred)\n",
    "    intersection = y_true_f * y_pred_f\n",
    "    score = (2. * K.sum(intersection) + smooth) / (K.sum(y_true_f) + K.sum(y_pred_f) + smooth)\n",
    "    return 1. - score\n",
    "\n",
    "def bce_dice_loss(y_true, y_pred):\n",
    "    return tf.keras.losses.binary_crossentropy(tf.cast(y_true, tf.float32), y_pred) + 0.5 * dice_loss(tf.cast(y_true, tf.float32), y_pred)\n",
    "\n",
    "def weighted_loss(y_true, y_pred):\n",
    "    # Calculate the base loss\n",
    "    ce = K.sparse_categorical_crossentropy(tf.cast(y_true, tf.float32), y_pred)\n",
    "    # Apply the weights\n",
    "    one_weight = 1.0\n",
    "    zero_weight = 1e-2\n",
    "    weight_vector = tf.cast(y_true, tf.float32) * one_weight + (1. - tf.cast(y_true, tf.float32)) * zero_weight\n",
    "    weight_vector = K.squeeze(weight_vector, axis=-1)\n",
    "    weighted_ce = weight_vector * ce\n",
    "    # Return the mean error\n",
    "    return K.mean(weighted_ce)"
   ]
  },
  {
   "cell_type": "code",
   "execution_count": 5,
   "id": "aaba54c7",
   "metadata": {
    "ExecuteTime": {
     "end_time": "2022-08-18T05:04:47.994942Z",
     "start_time": "2022-08-18T05:04:47.979939Z"
    }
   },
   "outputs": [],
   "source": [
    "from IPython.display import clear_output\n",
    "from tensorflow.keras import backend as K\n",
    "\n",
    "class PlotLearning(tf.keras.callbacks.Callback):\n",
    "    \"\"\"\n",
    "    Callback to plot the learning curves of the model during training.\n",
    "    \"\"\"\n",
    "    def on_train_begin(self, logs={}):\n",
    "        self.metrics = {}\n",
    "        for metric in logs:\n",
    "            self.metrics[metric] = []\n",
    "        \n",
    "    def on_epoch_end(self, epoch, logs={}):\n",
    "        # Storing metrics\n",
    "        for metric in logs:\n",
    "            if metric in self.metrics:\n",
    "                self.metrics[metric].append(logs.get(metric))\n",
    "            else:\n",
    "                self.metrics[metric] = [logs.get(metric)]\n",
    "        \n",
    "        # Plotting\n",
    "        metrics = [x for x in logs if 'val' not in x]\n",
    "        \n",
    "        f, axs = plt.subplots(1, len(metrics), figsize=(15,5))\n",
    "        clear_output(wait=True)\n",
    "\n",
    "        for i, metric in enumerate(metrics):\n",
    "            axs[i].plot(range(1, epoch + 2), \n",
    "                        self.metrics[metric], \n",
    "                        label=metric)\n",
    "            if logs['val_' + metric]:\n",
    "                axs[i].plot(range(1, epoch + 2), \n",
    "                            self.metrics['val_' + metric], \n",
    "                            label='val_' + metric)\n",
    "                \n",
    "            axs[i].legend()\n",
    "        plt.tight_layout()\n",
    "        plt.show()"
   ]
  },
  {
   "cell_type": "code",
   "execution_count": 6,
   "id": "8684ba76",
   "metadata": {
    "ExecuteTime": {
     "end_time": "2022-08-18T05:04:48.009949Z",
     "start_time": "2022-08-18T05:04:47.995943Z"
    }
   },
   "outputs": [],
   "source": [
    "organs = train.organ.unique()"
   ]
  },
  {
   "cell_type": "code",
   "execution_count": 7,
   "id": "0bf43243",
   "metadata": {
    "ExecuteTime": {
     "end_time": "2022-08-18T05:04:48.040956Z",
     "start_time": "2022-08-18T05:04:48.010950Z"
    }
   },
   "outputs": [
    {
     "name": "stdout",
     "output_type": "stream",
     "text": [
      "Segmentation Models: using `keras` framework.\n"
     ]
    }
   ],
   "source": [
    "import segmentation_models as sm\n",
    "sm.set_framework('tf.keras')\n",
    "sm.framework()\n",
    "from segmentation_models import Unet, FPN\n",
    "from segmentation_models.utils import set_trainable"
   ]
  },
  {
   "cell_type": "code",
   "execution_count": 8,
   "id": "5e650146",
   "metadata": {
    "ExecuteTime": {
     "end_time": "2022-08-18T04:50:40.342721Z",
     "start_time": "2022-08-18T04:50:40.327714Z"
    }
   },
   "outputs": [
    {
     "name": "stdout",
     "output_type": "stream",
     "text": [
      "84 9\n"
     ]
    }
   ],
   "source": [
    "prostate_df = train[train[\"organ\"]==\"prostate\"]\n",
    "list_ds = tf.data.Dataset.from_tensor_slices( (prostate_df[\"train_img_path\"].values, prostate_df[\"mask_img_path\"].values) ) # (x,y) = (image, label)\n",
    "list_ds = list_ds.shuffle(len(list_ds), reshuffle_each_iteration=False) # 데이터 셔플 / 랜덤\n",
    "\n",
    "# DS split (10%)\n",
    "val_size = int(len(list_ds)*0.1) # 1147 # 10%는 valid set\n",
    "train_ds = list_ds.skip(val_size) # 10% 를 넘김 # 90%\n",
    "valid_ds = list_ds.take(val_size) # 10% 를 가짐 \n",
    "NUM_TRAIN = tf.data.experimental.cardinality(train_ds).numpy()\n",
    "NUM_VALID = tf.data.experimental.cardinality(valid_ds).numpy()\n",
    "print(NUM_TRAIN, NUM_VALID)"
   ]
  },
  {
   "cell_type": "code",
   "execution_count": 9,
   "id": "a1381de5",
   "metadata": {
    "ExecuteTime": {
     "end_time": "2022-08-18T04:58:20.519822Z",
     "start_time": "2022-08-18T04:50:40.345723Z"
    },
    "scrolled": false
   },
   "outputs": [
    {
     "data": {
      "image/png": "[encoded data removed]",
      "text/plain": [
       "<Figure size 1080x360 with 2 Axes>"
      ]
     },
     "metadata": {},
     "output_type": "display_data"
    },
    {
     "name": "stdout",
     "output_type": "stream",
     "text": [
      "\n",
      "Epoch 20: val_dice_coef did not improve from 0.25610\n",
      "84/84 [==============================] - 21s 251ms/step - loss: 0.6193 - dice_coef: 0.3969 - val_loss: 1.9310 - val_dice_coef: 0.1328\n"
     ]
    }
   ],
   "source": [
    "batch_size = 1\n",
    "AUTOTUNE = tf.data.experimental.AUTOTUNE\n",
    "NAME = [\"B6\"]\n",
    "SIZE = [480]\n",
    "EPOCHS = [20]\n",
    "\n",
    "for name, size, epoch in zip(NAME, SIZE,EPOCHS):\n",
    "    \n",
    "    # 데이터셋 호출!\n",
    "    # img_path, label -> img, one_hot vector label\n",
    "    train_ds = train_ds.map(process_path, num_parallel_calls=AUTOTUNE)\n",
    "    valid_ds = valid_ds.map(process_path, num_parallel_calls=AUTOTUNE)\n",
    "    \n",
    "    # 증강\n",
    "    train_ds = train_ds.map(lambda x, y: (simple_aug(x), y), num_parallel_calls=AUTOTUNE)\n",
    "    \n",
    "    # 하드웨어 성능향상 + 배치\n",
    "    train_ds = configure_for_performance(train_ds) \n",
    "    valid_ds = configure_for_performance(valid_ds)\n",
    "    \n",
    "    #모델 호출!\n",
    "    model = Unet('efficientnetb6',input_shape=(size, size, 3), classes=1, activation='sigmoid', encoder_weights=None)\n",
    "    model.compile(loss=bce_dice_loss, optimizer=tf.keras.optimizers.Adam(learning_rate=1e-4),metrics=[dice_coef])\n",
    "    \n",
    "    # 콜백!\n",
    "    \n",
    "    save_best = tf.keras.callbacks.ModelCheckpoint(f\"model/{name}_model_prostate.h5\", monitor='val_dice_coef', save_best_only=True, mode='max', verbose=True,)\n",
    "    \n",
    "    # 학습!\n",
    "    print(\"----------------------- \"+name+ \" prostate -----------------------\")\n",
    "    model.fit(train_ds,validation_data=valid_ds,epochs=epoch, use_multiprocessing=False, callbacks=[PlotLearning(), save_best])"
   ]
  },
  {
   "cell_type": "code",
   "execution_count": 8,
   "id": "b502ee0e",
   "metadata": {
    "ExecuteTime": {
     "end_time": "2022-08-18T05:04:50.013169Z",
     "start_time": "2022-08-18T05:04:50.004131Z"
    }
   },
   "outputs": [
    {
     "name": "stdout",
     "output_type": "stream",
     "text": [
      "84 9\n"
     ]
    }
   ],
   "source": [
    "prostate_df = train[train[\"organ\"]==\"prostate\"]\n",
    "list_ds = tf.data.Dataset.from_tensor_slices( (prostate_df[\"train_img_path\"].values, prostate_df[\"mask_img_path\"].values) ) # (x,y) = (image, label)\n",
    "list_ds = list_ds.shuffle(len(list_ds), reshuffle_each_iteration=False) # 데이터 셔플 / 랜덤\n",
    "\n",
    "# DS split (10%)\n",
    "val_size = int(len(list_ds)*0.1) # 1147 # 10%는 valid set\n",
    "train_ds = list_ds.skip(val_size) # 10% 를 넘김 # 90%\n",
    "valid_ds = list_ds.take(val_size) # 10% 를 가짐 \n",
    "NUM_TRAIN = tf.data.experimental.cardinality(train_ds).numpy()\n",
    "NUM_VALID = tf.data.experimental.cardinality(valid_ds).numpy()\n",
    "print(NUM_TRAIN, NUM_VALID)"
   ]
  },
  {
   "cell_type": "code",
   "execution_count": 9,
   "id": "fc0113b9",
   "metadata": {
    "ExecuteTime": {
     "end_time": "2022-08-18T05:11:56.500625Z",
     "start_time": "2022-08-18T05:04:50.482665Z"
    },
    "scrolled": false
   },
   "outputs": [
    {
     "data": {
      "image/png": "[encoded data removed]",
      "text/plain": [
       "<Figure size 1080x360 with 2 Axes>"
      ]
     },
     "metadata": {},
     "output_type": "display_data"
    },
    {
     "name": "stdout",
     "output_type": "stream",
     "text": [
      "\n",
      "Epoch 20: val_dice_coef did not improve from -inf\n",
      "84/84 [==============================] - 20s 236ms/step - loss: nan - dice_coef: nan - val_loss: nan - val_dice_coef: nan\n"
     ]
    }
   ],
   "source": [
    "batch_size = 1\n",
    "AUTOTUNE = tf.data.experimental.AUTOTUNE\n",
    "NAME = [\"B6\"]\n",
    "SIZE = [480]\n",
    "EPOCHS = [20]\n",
    "\n",
    "for name, size, epoch in zip(NAME, SIZE,EPOCHS):\n",
    "    \n",
    "    # 데이터셋 호출!\n",
    "    # img_path, label -> img, one_hot vector label\n",
    "    train_ds = train_ds.map(process_path, num_parallel_calls=AUTOTUNE)\n",
    "    valid_ds = valid_ds.map(process_path, num_parallel_calls=AUTOTUNE)\n",
    "    \n",
    "    # 증강\n",
    "    train_ds = train_ds.map(lambda x, y: (simple_aug(x), y), num_parallel_calls=AUTOTUNE)\n",
    "    \n",
    "    # 하드웨어 성능향상 + 배치\n",
    "    train_ds = configure_for_performance(train_ds) \n",
    "    valid_ds = configure_for_performance(valid_ds)\n",
    "    \n",
    "    #모델 호출!\n",
    "    model = Unet('efficientnetb6',input_shape=(size, size, 3), classes=1, activation='sigmoid', encoder_weights=None)\n",
    "    model.compile(loss=bc, optimizer=tf.keras.optimizers.Adam(learning_rate=1e-4),metrics=[dice_coef])\n",
    "    \n",
    "    # 콜백!\n",
    "    \n",
    "    save_best = tf.keras.callbacks.ModelCheckpoint(f\"model/{name}_model_prostate_WL.h5\", monitor='val_dice_coef', save_best_only=True, mode='max', verbose=True,)\n",
    "    \n",
    "    # 학습!\n",
    "    print(\"----------------------- \"+name+ \" prostate -----------------------\")\n",
    "    model.fit(train_ds,validation_data=valid_ds,epochs=epoch, use_multiprocessing=False, callbacks=[PlotLearning(), save_best])"
   ]
  },
  {
   "cell_type": "code",
   "execution_count": null,
   "id": "7173d63e",
   "metadata": {},
   "outputs": [],
   "source": []
  }
 ],
 "metadata": {
  "kernelspec": {
   "display_name": "Python 3 (ipykernel)",
   "language": "python",
   "name": "python3"
  },
  "language_info": {
   "codemirror_mode": {
    "name": "ipython",
    "version": 3
   },
   "file_extension": ".py",
   "mimetype": "text/x-python",
   "name": "python",
   "nbconvert_exporter": "python",
   "pygments_lexer": "ipython3",
   "version": "3.9.0"
  },
  "toc": {
   "base_numbering": 1,
   "nav_menu": {},
   "number_sections": true,
   "sideBar": true,
   "skip_h1_title": false,
   "title_cell": "Table of Contents",
   "title_sidebar": "Contents",
   "toc_cell": false,
   "toc_position": {},
   "toc_section_display": true,
   "toc_window_display": false
  }
 },
 "nbformat": 4,
 "nbformat_minor": 5
}
