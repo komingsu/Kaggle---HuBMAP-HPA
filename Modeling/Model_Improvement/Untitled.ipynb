{
 "cells": [
  {
   "cell_type": "code",
   "execution_count": 11,
   "id": "4cd0aa88",
   "metadata": {
    "ExecuteTime": {
     "end_time": "2022-08-17T08:08:31.905860Z",
     "start_time": "2022-08-17T08:08:31.900858Z"
    }
   },
   "outputs": [
    {
     "name": "stdout",
     "output_type": "stream",
     "text": [
      "\tVERSION INFORMATION\n",
      "\t\t– TENSORFLOW VERSION: 2.9.0\n",
      "\t\t– TENSORFLOW I/O VERSION: 0.26.0\n"
     ]
    }
   ],
   "source": [
    "print(\"\\tVERSION INFORMATION\")\n",
    "import tensorflow as tf; print(f\"\\t\\t– TENSORFLOW VERSION: {tf.__version__}\");\n",
    "import tensorflow_io as tfio; print(f\"\\t\\t– TENSORFLOW I/O VERSION: {tfio.__version__}\");\n",
    "import pandas as pd; pd.options.mode.chained_assignment = None;"
   ]
  },
  {
   "cell_type": "code",
   "execution_count": 12,
   "id": "261d49fe",
   "metadata": {
    "ExecuteTime": {
     "end_time": "2022-08-17T08:08:32.045845Z",
     "start_time": "2022-08-17T08:08:32.042845Z"
    }
   },
   "outputs": [],
   "source": [
    "import os\n",
    "from glob import glob\n",
    "import pandas as pd"
   ]
  },
  {
   "cell_type": "code",
   "execution_count": 13,
   "id": "21d026a4",
   "metadata": {
    "ExecuteTime": {
     "end_time": "2022-08-17T08:08:32.370849Z",
     "start_time": "2022-08-17T08:08:32.355848Z"
    }
   },
   "outputs": [
    {
     "data": {
      "text/plain": [
       "[PhysicalDevice(name='/physical_device:GPU:0', device_type='GPU')]"
      ]
     },
     "execution_count": 13,
     "metadata": {},
     "output_type": "execute_result"
    }
   ],
   "source": [
    "tf.config.list_physical_devices('GPU')"
   ]
  },
  {
   "cell_type": "code",
   "execution_count": 14,
   "id": "afa2f4cd",
   "metadata": {
    "ExecuteTime": {
     "end_time": "2022-08-17T08:08:33.737039Z",
     "start_time": "2022-08-17T08:08:33.717241Z"
    }
   },
   "outputs": [
    {
     "name": "stdout",
     "output_type": "stream",
     "text": [
      "\t--> D:Dataset\\dataset\\hubmap-organ-segmentation\\masked_images\n",
      "\t--> D:Dataset\\dataset\\hubmap-organ-segmentation\\sample_submission.csv\n",
      "\t--> D:Dataset\\dataset\\hubmap-organ-segmentation\\test.csv\n",
      "\t--> D:Dataset\\dataset\\hubmap-organ-segmentation\\test_images\n",
      "\t--> D:Dataset\\dataset\\hubmap-organ-segmentation\\train.csv\n",
      "\t--> D:Dataset\\dataset\\hubmap-organ-segmentation\\train_annotations\n",
      "\t--> D:Dataset\\dataset\\hubmap-organ-segmentation\\train_fix.csv\n",
      "\t--> D:Dataset\\dataset\\hubmap-organ-segmentation\\train_images\n"
     ]
    }
   ],
   "source": [
    "DATA_DIR = \"D:Dataset/dataset/hubmap-organ-segmentation/\"\n",
    "for file in tf.io.gfile.glob(os.path.join(DATA_DIR, \"*\")): print(f\"\\t--> {file}\")"
   ]
  },
  {
   "cell_type": "code",
   "execution_count": 15,
   "id": "f5118cba",
   "metadata": {
    "ExecuteTime": {
     "end_time": "2022-08-17T08:08:34.410694Z",
     "start_time": "2022-08-17T08:08:34.388066Z"
    }
   },
   "outputs": [],
   "source": [
    "train_df = pd.read_csv(DATA_DIR+\"train_fix.csv\")"
   ]
  },
  {
   "cell_type": "code",
   "execution_count": 16,
   "id": "9052bad5",
   "metadata": {
    "ExecuteTime": {
     "end_time": "2022-08-17T08:08:35.145217Z",
     "start_time": "2022-08-17T08:08:35.132044Z"
    }
   },
   "outputs": [
    {
     "data": {
      "text/html": [
       "<div>\n",
       "<style scoped>\n",
       "    .dataframe tbody tr th:only-of-type {\n",
       "        vertical-align: middle;\n",
       "    }\n",
       "\n",
       "    .dataframe tbody tr th {\n",
       "        vertical-align: top;\n",
       "    }\n",
       "\n",
       "    .dataframe thead th {\n",
       "        text-align: right;\n",
       "    }\n",
       "</style>\n",
       "<table border=\"1\" class=\"dataframe\">\n",
       "  <thead>\n",
       "    <tr style=\"text-align: right;\">\n",
       "      <th></th>\n",
       "      <th>id</th>\n",
       "      <th>organ</th>\n",
       "      <th>img_height</th>\n",
       "      <th>pixel_size</th>\n",
       "    </tr>\n",
       "  </thead>\n",
       "  <tbody>\n",
       "    <tr>\n",
       "      <th>0</th>\n",
       "      <td>10044</td>\n",
       "      <td>prostate</td>\n",
       "      <td>3000</td>\n",
       "      <td>0.4</td>\n",
       "    </tr>\n",
       "    <tr>\n",
       "      <th>1</th>\n",
       "      <td>10274</td>\n",
       "      <td>prostate</td>\n",
       "      <td>3000</td>\n",
       "      <td>0.4</td>\n",
       "    </tr>\n",
       "    <tr>\n",
       "      <th>2</th>\n",
       "      <td>10392</td>\n",
       "      <td>spleen</td>\n",
       "      <td>3000</td>\n",
       "      <td>0.4</td>\n",
       "    </tr>\n",
       "    <tr>\n",
       "      <th>3</th>\n",
       "      <td>10488</td>\n",
       "      <td>lung</td>\n",
       "      <td>3000</td>\n",
       "      <td>0.4</td>\n",
       "    </tr>\n",
       "    <tr>\n",
       "      <th>4</th>\n",
       "      <td>10610</td>\n",
       "      <td>spleen</td>\n",
       "      <td>3000</td>\n",
       "      <td>0.4</td>\n",
       "    </tr>\n",
       "    <tr>\n",
       "      <th>...</th>\n",
       "      <td>...</td>\n",
       "      <td>...</td>\n",
       "      <td>...</td>\n",
       "      <td>...</td>\n",
       "    </tr>\n",
       "    <tr>\n",
       "      <th>346</th>\n",
       "      <td>9517</td>\n",
       "      <td>kidney</td>\n",
       "      <td>3000</td>\n",
       "      <td>0.4</td>\n",
       "    </tr>\n",
       "    <tr>\n",
       "      <th>347</th>\n",
       "      <td>9769</td>\n",
       "      <td>kidney</td>\n",
       "      <td>3070</td>\n",
       "      <td>0.4</td>\n",
       "    </tr>\n",
       "    <tr>\n",
       "      <th>348</th>\n",
       "      <td>9777</td>\n",
       "      <td>largeintestine</td>\n",
       "      <td>3000</td>\n",
       "      <td>0.4</td>\n",
       "    </tr>\n",
       "    <tr>\n",
       "      <th>349</th>\n",
       "      <td>9791</td>\n",
       "      <td>kidney</td>\n",
       "      <td>3000</td>\n",
       "      <td>0.4</td>\n",
       "    </tr>\n",
       "    <tr>\n",
       "      <th>350</th>\n",
       "      <td>9904</td>\n",
       "      <td>largeintestine</td>\n",
       "      <td>3000</td>\n",
       "      <td>0.4</td>\n",
       "    </tr>\n",
       "  </tbody>\n",
       "</table>\n",
       "<p>351 rows × 4 columns</p>\n",
       "</div>"
      ],
      "text/plain": [
       "        id           organ  img_height  pixel_size\n",
       "0    10044        prostate        3000         0.4\n",
       "1    10274        prostate        3000         0.4\n",
       "2    10392          spleen        3000         0.4\n",
       "3    10488            lung        3000         0.4\n",
       "4    10610          spleen        3000         0.4\n",
       "..     ...             ...         ...         ...\n",
       "346   9517          kidney        3000         0.4\n",
       "347   9769          kidney        3070         0.4\n",
       "348   9777  largeintestine        3000         0.4\n",
       "349   9791          kidney        3000         0.4\n",
       "350   9904  largeintestine        3000         0.4\n",
       "\n",
       "[351 rows x 4 columns]"
      ]
     },
     "execution_count": 16,
     "metadata": {},
     "output_type": "execute_result"
    }
   ],
   "source": [
    "train_df"
   ]
  },
  {
   "cell_type": "code",
   "execution_count": 19,
   "id": "a73dda1c",
   "metadata": {
    "ExecuteTime": {
     "end_time": "2022-08-17T08:09:35.255886Z",
     "start_time": "2022-08-17T08:09:35.236042Z"
    }
   },
   "outputs": [],
   "source": [
    "# enable XLA optmizations (10% speedup when using @tf.function calls)\n",
    "tf.config.optimizer.set_jit(True) # XLA은 텐서플로우 환경안에서 도메인 별로 특화된 선형대수 계산 컴파일러이며, 연산 속도와 메모리 사용량을 향상시킨다."
   ]
  },
  {
   "cell_type": "code",
   "execution_count": 20,
   "id": "4313755f",
   "metadata": {
    "ExecuteTime": {
     "end_time": "2022-08-17T08:09:35.867488Z",
     "start_time": "2022-08-17T08:09:35.859813Z"
    }
   },
   "outputs": [],
   "source": [
    "def rle2mask(rle, width, target_size=None):\n",
    "    if target_size == None:\n",
    "        target_size = width\n",
    "\n",
    "    rle = np.array(list(map(int, rle.split())))\n",
    "    label = np.zeros((width*width))\n",
    "    \n",
    "    for start, end in zip(rle[::2], rle[1::2]):\n",
    "        label[start:start+end] = 1\n",
    "        \n",
    "    #Convert label to image\n",
    "    label = Image.fromarray(label.reshape(width, width))\n",
    "    #Resize label\n",
    "    label = label.resize((target_size, target_size))\n",
    "    label = np.array(label).astype(float)\n",
    "    #rescale label\n",
    "    label = np.round((label - label.min())/(label.max() - label.min()))\n",
    "    \n",
    "    return label.T"
   ]
  },
  {
   "cell_type": "code",
   "execution_count": null,
   "id": "1da0ce28",
   "metadata": {},
   "outputs": [],
   "source": []
  }
 ],
 "metadata": {
  "kernelspec": {
   "display_name": "Python 3 (ipykernel)",
   "language": "python",
   "name": "python3"
  },
  "language_info": {
   "codemirror_mode": {
    "name": "ipython",
    "version": 3
   },
   "file_extension": ".py",
   "mimetype": "text/x-python",
   "name": "python",
   "nbconvert_exporter": "python",
   "pygments_lexer": "ipython3",
   "version": "3.9.0"
  },
  "toc": {
   "base_numbering": 1,
   "nav_menu": {},
   "number_sections": true,
   "sideBar": true,
   "skip_h1_title": false,
   "title_cell": "Table of Contents",
   "title_sidebar": "Contents",
   "toc_cell": false,
   "toc_position": {},
   "toc_section_display": true,
   "toc_window_display": false
  }
 },
 "nbformat": 4,
 "nbformat_minor": 5
}
